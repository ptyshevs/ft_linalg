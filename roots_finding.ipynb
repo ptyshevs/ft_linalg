{
 "cells": [
  {
   "cell_type": "code",
   "execution_count": 2,
   "metadata": {
    "collapsed": true
   },
   "outputs": [],
   "source": [
    "import numpy as np\n",
    "f = lambda x: x ** 2 + 3 * x - 1"
   ]
  },
  {
   "cell_type": "code",
   "execution_count": 8,
   "metadata": {
    "collapsed": true
   },
   "outputs": [],
   "source": [
    "def secant_root_finding(f, x0=0, x1=1, n_iter=100, eps=0.0001):\n",
    "    x_i2 = x0\n",
    "    x_i1 = x1\n",
    "    for i in range(n_iter):\n",
    "        try:\n",
    "            x_i = x_i1 - f(x_i1) * ((x_i1 - x_i2)) / (f(x_i1) - f(x_i2))\n",
    "        except ZeroDivisionError:\n",
    "            print(\"No difference between two consecutive iterations. Stopping...\")\n",
    "            break\n",
    "        if abs(x_i - x_i1) <  eps:\n",
    "            break\n",
    "        print(\"iteration\", i, \" x=\", x_i, \"f(x)=\", f(x_i))\n",
    "        x_i2 = x_i1\n",
    "        x_i1 = x_i\n",
    "    return x_i"
   ]
  },
  {
   "cell_type": "code",
   "execution_count": 9,
   "metadata": {},
   "outputs": [
    {
     "name": "stdout",
     "output_type": "stream",
     "text": [
      "iteration 0  x= 0.25 f(x)= -0.1875\n",
      "iteration 1  x= 0.29411764705882354 f(x)= -0.03114186851211076\n",
      "iteration 2  x= 0.30290456431535273 f(x)= 0.00046486802913192626\n",
      "iteration 3  x= 0.3027753274072063 f(x)= -1.1188918400684145e-06\n"
     ]
    },
    {
     "data": {
      "text/plain": [
       "0.3027756377208985"
      ]
     },
     "execution_count": 9,
     "metadata": {},
     "output_type": "execute_result"
    }
   ],
   "source": [
    "secant_root_finding(f)"
   ]
  }
 ],
 "metadata": {
  "kernelspec": {
   "display_name": "Python 3",
   "language": "python",
   "name": "python3"
  },
  "language_info": {
   "codemirror_mode": {
    "name": "ipython",
    "version": 3
   },
   "file_extension": ".py",
   "mimetype": "text/x-python",
   "name": "python",
   "nbconvert_exporter": "python",
   "pygments_lexer": "ipython3",
   "version": "3.6.0"
  }
 },
 "nbformat": 4,
 "nbformat_minor": 1
}
