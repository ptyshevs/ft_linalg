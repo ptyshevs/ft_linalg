{
 "cells": [
  {
   "cell_type": "code",
   "execution_count": 1,
   "metadata": {},
   "outputs": [],
   "source": [
    "import numpy as np\n",
    "from Matrix import Matrix\n",
    "from gauss import SoleSolver, gauss_inv, cond, residual"
   ]
  },
  {
   "cell_type": "code",
   "execution_count": 2,
   "metadata": {},
   "outputs": [],
   "source": [
    "# 3\n",
    "A = Matrix([[2, 2, -1, 1],\n",
    "            [-3, 0, 3, 0],\n",
    "            [-1, 3, 3, 2],\n",
    "            [1, 0, 0, 4]])\n",
    "b = Matrix([[3],\n",
    "            [-9],\n",
    "            [-7],\n",
    "            [4]])"
   ]
  },
  {
   "cell_type": "code",
   "execution_count": 3,
   "metadata": {},
   "outputs": [
    {
     "name": "stdout",
     "output_type": "stream",
     "text": [
      "My solution:\n",
      "[4.0]\n",
      "[-2.0]\n",
      "[1.0]\n",
      "[0.0]\n",
      "Numpy solution:\n",
      "[[ 4.00000000e+00]\n",
      " [-2.00000000e+00]\n",
      " [ 1.00000000e+00]\n",
      " [-2.22044605e-16]]\n",
      "Residual\n",
      " [0.0]\n",
      "[0.0]\n",
      "[0.0]\n",
      "[0.0]\n"
     ]
    }
   ],
   "source": [
    "x = SoleSolver().solve(A, b)\n",
    "r = residual(A, x, b)\n",
    "print(\"My solution:\", x, sep='\\n')\n",
    "print(\"Numpy solution:\", np.linalg.solve(A.values, b.values), sep='\\n')\n",
    "print(\"Residual\\n\", r)"
   ]
  },
  {
   "cell_type": "code",
   "execution_count": 18,
   "metadata": {},
   "outputs": [],
   "source": [
    "# 4\n",
    "A = Matrix([[-7, -6, -6, 6],\n",
    "            [7, 6, 8, -13],\n",
    "            [4, 17, -16, 10],\n",
    "            [-4, 18, 19, 0]])\n",
    "b = Matrix([[144],\n",
    "            [-170],\n",
    "            [21],\n",
    "            [-445]])"
   ]
  },
  {
   "cell_type": "code",
   "execution_count": 19,
   "metadata": {},
   "outputs": [
    {
     "name": "stdout",
     "output_type": "stream",
     "text": [
      "My solution:\n",
      "[3.8838054872867188e-16]\n",
      "[-11.000000000000004]\n",
      "[-13.000000000000002]\n",
      "[-7.050921875993813e-16]\n",
      "Numpy solution:\n",
      "[[-2.03012210e-15]\n",
      " [-1.10000000e+01]\n",
      " [-1.30000000e+01]\n",
      " [-5.85064159e-16]]\n",
      "Residual\n",
      " [5.684341886080802e-14]\n",
      "[-5.684341886080802e-14]\n",
      "[-3.552713678800501e-14]\n",
      "[-1.1368683772161603e-13]\n"
     ]
    }
   ],
   "source": [
    "x = SoleSolver().solve(A, b)\n",
    "r = residual(A, x, b)\n",
    "print(\"My solution:\", x, sep='\\n')\n",
    "print(\"Numpy solution:\", np.linalg.solve(A.values, b.values), sep='\\n')\n",
    "print(\"Residual\\n\", r)"
   ]
  },
  {
   "cell_type": "code",
   "execution_count": 20,
   "metadata": {},
   "outputs": [],
   "source": [
    "# 6\n",
    "A = Matrix([[5, 0, -7, 0],\n",
    "            [-1, 6, 0, 1],\n",
    "            [2, -6, -4, -5],\n",
    "            [-6, -6, 15, 7]])\n",
    "b = Matrix([[-123],\n",
    "            [60],\n",
    "            [-108],\n",
    "            [159]])"
   ]
  },
  {
   "cell_type": "code",
   "execution_count": 22,
   "metadata": {},
   "outputs": [
    {
     "name": "stdout",
     "output_type": "stream",
     "text": [
      "My solution:\n",
      "None\n",
      "Numpy solution:\n",
      "[[-29.23076923]\n",
      " [  3.79487179]\n",
      " [ -3.30769231]\n",
      " [  8.        ]]\n"
     ]
    }
   ],
   "source": [
    "x = SoleSolver().solve(A, b)\n",
    "# r = residual(A, x, b)\n",
    "print(\"My solution:\", x, sep='\\n')\n",
    "print(\"Numpy solution:\", np.linalg.solve(A.values, b.values), sep='\\n')\n",
    "# print(\"Residual\\n\", r)"
   ]
  }
 ],
 "metadata": {
  "kernelspec": {
   "display_name": "Python 3",
   "language": "python",
   "name": "python3"
  },
  "language_info": {
   "codemirror_mode": {
    "name": "ipython",
    "version": 3
   },
   "file_extension": ".py",
   "mimetype": "text/x-python",
   "name": "python",
   "nbconvert_exporter": "python",
   "pygments_lexer": "ipython3",
   "version": "3.6.2"
  }
 },
 "nbformat": 4,
 "nbformat_minor": 2
}
