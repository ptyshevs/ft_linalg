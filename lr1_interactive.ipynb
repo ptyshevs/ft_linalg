{
 "cells": [
  {
   "cell_type": "code",
   "execution_count": 1,
   "metadata": {},
   "outputs": [],
   "source": [
    "import numpy as np\n",
    "from Matrix import Matrix\n",
    "from gauss import SoleSolver, gauss_inv, cond, residual"
   ]
  },
  {
   "cell_type": "code",
   "execution_count": 2,
   "metadata": {},
   "outputs": [],
   "source": [
    "# 3\n",
    "A1 = Matrix([[2, 2, -1, 1],\n",
    "            [-3, 0, 3, 0],\n",
    "            [-1, 3, 3, 2],\n",
    "            [1, 0, 0, 4]])\n",
    "b1 = Matrix([[3],\n",
    "            [-9],\n",
    "            [-7],\n",
    "            [4]])"
   ]
  },
  {
   "cell_type": "code",
   "execution_count": 3,
   "metadata": {},
   "outputs": [
    {
     "name": "stdout",
     "output_type": "stream",
     "text": [
      "My solution:\n",
      "[4.0]\n",
      "[-2.0]\n",
      "[1.0]\n",
      "[0.0]\n",
      "Numpy solution:\n",
      "[[ 4.00000000e+00]\n",
      " [-2.00000000e+00]\n",
      " [ 1.00000000e+00]\n",
      " [-2.22044605e-16]]\n",
      "Residual\n",
      " [0.0]\n",
      "[0.0]\n",
      "[0.0]\n",
      "[0.0]\n"
     ]
    }
   ],
   "source": [
    "x1 = SoleSolver().solve(A1, b1)\n",
    "r1 = residual(A1, x1, b1)\n",
    "print(\"My solution:\", x1, sep='\\n')\n",
    "print(\"Numpy solution:\", np.linalg.solve(A1.values, b1.values), sep='\\n')\n",
    "print(\"Residual\\n\", r1)"
   ]
  },
  {
   "cell_type": "code",
   "execution_count": 4,
   "metadata": {},
   "outputs": [],
   "source": [
    "# 4\n",
    "A2 = Matrix([[-7, -6, -6, 6],\n",
    "            [7, 6, 8, -13],\n",
    "            [4, 17, -16, 10],\n",
    "            [-4, 18, 19, 0]])\n",
    "b2 = Matrix([[144],\n",
    "            [-170],\n",
    "            [21],\n",
    "            [-445]])"
   ]
  },
  {
   "cell_type": "code",
   "execution_count": 5,
   "metadata": {},
   "outputs": [
    {
     "name": "stdout",
     "output_type": "stream",
     "text": [
      "My solution:\n",
      "[3.8838054872867188e-16]\n",
      "[-11.000000000000004]\n",
      "[-13.000000000000002]\n",
      "[-7.050921875993813e-16]\n",
      "Numpy solution:\n",
      "[[-2.03012210e-15]\n",
      " [-1.10000000e+01]\n",
      " [-1.30000000e+01]\n",
      " [-5.85064159e-16]]\n",
      "Residual\n",
      " [5.684341886080802e-14]\n",
      "[-5.684341886080802e-14]\n",
      "[-3.552713678800501e-14]\n",
      "[-1.1368683772161603e-13]\n"
     ]
    }
   ],
   "source": [
    "x2 = SoleSolver().solve(A2, b2)\n",
    "r2 = residual(A2, x2, b2)\n",
    "print(\"My solution:\", x2, sep='\\n')\n",
    "print(\"Numpy solution:\", np.linalg.solve(A2.values, b2.values), sep='\\n')\n",
    "print(\"Residual\\n\", r2)"
   ]
  },
  {
   "cell_type": "code",
   "execution_count": 6,
   "metadata": {},
   "outputs": [],
   "source": [
    "# 6\n",
    "A3 = Matrix([[5, 0, -7, 0],\n",
    "            [-1, 6, 0, 1],\n",
    "            [2, -6, -4, -5],\n",
    "            [-6, -6, 15, 7]])\n",
    "b3 = Matrix([[-123],\n",
    "            [60],\n",
    "            [-108],\n",
    "            [159]])"
   ]
  },
  {
   "cell_type": "code",
   "execution_count": 7,
   "metadata": {},
   "outputs": [
    {
     "name": "stdout",
     "output_type": "stream",
     "text": [
      "My solution:\n",
      "None\n",
      "Numpy solution:\n",
      "[[-29.23076923]\n",
      " [  3.79487179]\n",
      " [ -3.30769231]\n",
      " [  8.        ]]\n"
     ]
    }
   ],
   "source": [
    "x3 = SoleSolver().solve(A3, b3)\n",
    "# r = residual(A, x, b)\n",
    "print(\"My solution:\", x3, sep='\\n')\n",
    "print(\"Numpy solution:\", np.linalg.solve(A3.values, b3.values), sep='\\n')\n",
    "# print(\"Residual\\n\", r)"
   ]
  },
  {
   "cell_type": "code",
   "execution_count": 8,
   "metadata": {},
   "outputs": [
    {
     "name": "stdout",
     "output_type": "stream",
     "text": [
      "My cond A1: 77.0 | Numpy cond: 77.00000000000003\n",
      "My cond A2: 28.940949893912197 | Numpy cond: 28.940949893912194\n",
      "Singular matrix: Conditional number cannot be calculated\n",
      "My cond A3: -1 | Numpy cond: 1.5274708736164938e+17\n"
     ]
    }
   ],
   "source": [
    "# 8: Condition number\n",
    "print(f\"My cond A1: {cond(A1)} | Numpy cond: {np.linalg.cond(A1.values, p=1)}\")\n",
    "print(f\"My cond A2: {cond(A2)} | Numpy cond: {np.linalg.cond(A2.values, p=1)}\")\n",
    "print(f\"My cond A3: {cond(A3)} | Numpy cond: {np.linalg.cond(A3.values, p=1)}\")"
   ]
  },
  {
   "cell_type": "code",
   "execution_count": 11,
   "metadata": {},
   "outputs": [
    {
     "name": "stdout",
     "output_type": "stream",
     "text": [
      "My solution:\n",
      "[3.984600000000002]\n",
      "[-1.9942000000000009]\n",
      "[0.9856000000000021]\n",
      "[0.0037999999999995073]\n",
      "Numpy solution:\n",
      "[[ 3.9846e+00]\n",
      " [-1.9942e+00]\n",
      " [ 9.8560e-01]\n",
      " [ 3.8000e-03]]\n",
      "Residual\n",
      " [0.0]\n",
      "[0.0]\n",
      "[0.0]\n",
      "[0.0]\n"
     ]
    }
   ],
   "source": [
    "# 10\n",
    "perturbation = Matrix([[-.001],\n",
    "                       [.003],\n",
    "                       [-.0028],\n",
    "                       [-.0002]])\n",
    "x1 = SoleSolver().solve(A1, b1 + perturbation)\n",
    "r1 = residual(A1, x1, b1 + perturbation)\n",
    "print(\"My solution:\", x1, sep='\\n')\n",
    "print(\"Numpy solution:\", np.linalg.solve(A1.values, (b1 + perturbation).values), sep='\\n')\n",
    "print(\"Residual\\n\", r1)"
   ]
  },
  {
   "cell_type": "code",
   "execution_count": 12,
   "metadata": {},
   "outputs": [
    {
     "name": "stdout",
     "output_type": "stream",
     "text": [
      "My solution:\n",
      "[-8.487677492789465e-05]\n",
      "[-10.999999203525384]\n",
      "[-13.000029149665416]\n",
      "[-0.00029404276154476475]\n",
      "Numpy solution:\n",
      "[[-8.48767749e-05]\n",
      " [-1.09999992e+01]\n",
      " [-1.30000291e+01]\n",
      " [-2.94042762e-04]]\n",
      "Residual\n",
      " [5.684341886080802e-14]\n",
      "[-2.842170943040401e-14]\n",
      "[-3.907985046680551e-14]\n",
      "[-1.1368683772161603e-13]\n"
     ]
    }
   ],
   "source": [
    "x2 = SoleSolver().solve(A2, b2 + perturbation)\n",
    "r2 = residual(A2, x2, b2 + perturbation)\n",
    "print(\"My solution:\", x2, sep='\\n')\n",
    "print(\"Numpy solution:\", np.linalg.solve(A2.values, (b2 + perturbation).values), sep='\\n')\n",
    "print(\"Residual\\n\", r2)"
   ]
  },
  {
   "cell_type": "code",
   "execution_count": 13,
   "metadata": {},
   "outputs": [
    {
     "name": "stdout",
     "output_type": "stream",
     "text": [
      "My solution:\n",
      "None\n",
      "Numpy solution:\n",
      "[[-1.77834447e+12]\n",
      " [-4.34000733e+11]\n",
      " [-1.27024605e+12]\n",
      " [ 8.25659932e+11]]\n"
     ]
    }
   ],
   "source": [
    "x3 = SoleSolver().solve(A3, b3 + perturbation)\n",
    "# r = residual(A, x, b)\n",
    "print(\"My solution:\", x3, sep='\\n')\n",
    "print(\"Numpy solution:\", np.linalg.solve(A3.values, (b3 + perturbation).values), sep='\\n')\n",
    "# print(\"Residual\\n\", r)"
   ]
  },
  {
   "cell_type": "markdown",
   "metadata": {},
   "source": [
    "Control questions:\n",
    "\n",
    "1.\n",
    "> Скільки множень/ділень потребує виконання алгоритму Гауса?\n",
    " \n",
    "$\\frac{n(n+1)}{2}$ делений, $\\frac{2n^3+3n^2-5n}{6}$ умножений. Асимптотическая сложность: $O(n^3)$.\n",
    "\n",
    "2.\n",
    "> Покажіть, що алгоритм Гауса без перестановок рядків (схема основного поділу) не приводить до успіху, коли один з головних мінорів вихідної матриці дорівнює нулю.\n",
    "\n",
    "Допустим $a_{ii}=0$. Тогда, $\\frac{a_{ki}}{a_{ii}}$ неопределено. Решение: на шаге $i$ выбрать такое $t \\in (i, n]$ такое что $a_{ti} != 0$, переставить строку $i$ и $t$. Если такого $t$ нет, матрица вырождена.\n",
    "\n",
    "3.\n",
    ">Проаналізуйте, як накопичуються похибки заокруглень в коефіцієнтах СЛАР при її претвореннях методом Гауса. Доведіть, що саме перестановка рівнянь призводить до появи таких Гаусових множників, які мінімізують можливе накопичення похибок заокруглення.\n",
    "\n",
    "При каждом выполнении $a_{k} = a_{k} - \\frac{a_ki}{a_{ii}}$ мы считаем разницу между одинаковыми величинами $\\delta(a-b)$, ошибка в которой \"может быть сколь угодно большой\". Ошибка накапливается с прохождением алгоритма -- для $a_n = (n-1)\\delta(a-b)$. Переставляя строки для $a_{ii} \\approx 0$, мы избегаем умножения на число с плавающей запятой \"до последнего\".\n",
    "\n",
    "4.\n",
    ">Чому визначник трикутної матриці дорівнює добутку діагональних елементів?\n",
    "\n",
    "$$det(\\begin{bmatrix}\n",
    "        a_{11} & a_{12} & \\dots & a_{1n} \\\\\n",
    "        0      &  a_{22} & \\dots & a_{2n} \\\\\n",
    "        \\vdots &  \\dots & \\ddots & \\dots \\\\\n",
    "        0      &  \\dots &  \\dots & a_{nn}\n",
    "      \\end{bmatrix})=a_{11}det(\\begin{bmatrix}\n",
    "        a_{22} & a_{23} & \\dots & a_{2n} \\\\\n",
    "        0      &  a_{33} & \\dots & a_{3n} \\\\\n",
    "        \\vdots &  \\dots & \\ddots & \\dots \\\\\n",
    "        0      &  \\dots &  \\dots & a_{nn}\n",
    "      \\end{bmatrix})=\\dots=a_{11}a_{22}\\dots a_{nn}$$\n",
    "5.\n",
    "> Що таке норма вектора?\n",
    "\n",
    "Норма вектора - это функционал $p: V \\rightarrow R$ такой что:\n",
    "1. $p(x) = 0 \\Rightarrow x = 0_V$\n",
    "2. $\\forall_{x,y \\in V}p(x + y) \\le p(x) + p(y)$\n",
    "3. $\\forall{\\alpha \\in C},\\forall{x \\in V} p(\\alpha x) = |\\alpha|p(x)$\n",
    "\n",
    "6.\n",
    "> Що таке норма матриці?\n",
    "\n",
    "Такой же функционал, определённый для линейного пространства $K^{m\\times{n}}, K=[R|C]$. Каждой матрице $A \\in K^{m\\times n}$ ставится неотрицательное действительное число $||A||$, такое что:\n",
    "1. $ ||A|| = \\begin{cases} \n",
    "      0 & A = 0 \\\\\n",
    "      > 0 & A \\ne 0 \n",
    "   \\end{cases}\n",
    "$\n",
    "2. $||A+B||\\le ||A|| + ||B||, A,B \\in K^{m\\times n}$\n",
    "3. $||\\alpha A|| = |\\alpha|||A||, \\alpha \\in K, A \\in K^{m \\times n}$\n",
    "\n",
    "7.\n",
    "> Що таке число обумовленості матриці?\n",
    "\n",
    "Число обусловленности это функционал $p: A \\rightarrow R, A \\in K^{m \\times n}$ такой, что $p(A)=||A||||A^{-1}||$. Оно ассоциируется с системой линейных уравнений $Ax=b$, и даёт оценку того насколько возмущение $b$ влияет на вектор решения $x$. Чем оно больше, тем более \"неустойчиво\" наше решение. \n",
    "\n",
    "8.\n",
    "> З якими складностями пов’язане обчислення числа обумовленості матриці за формулою?\n",
    "\n",
    "Если матрица $A$ сингулярна, возникает проблема нахождения обратной матрицы."
   ]
  }
 ],
 "metadata": {
  "kernelspec": {
   "display_name": "Python 3",
   "language": "python",
   "name": "python3"
  },
  "language_info": {
   "codemirror_mode": {
    "name": "ipython",
    "version": 3
   },
   "file_extension": ".py",
   "mimetype": "text/x-python",
   "name": "python",
   "nbconvert_exporter": "python",
   "pygments_lexer": "ipython3",
   "version": "3.6.2"
  }
 },
 "nbformat": 4,
 "nbformat_minor": 2
}
